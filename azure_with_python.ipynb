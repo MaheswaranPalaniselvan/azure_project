{
 "cells": [
  {
   "cell_type": "code",
   "execution_count": 6,
   "metadata": {},
   "outputs": [
    {
     "name": "stdout",
     "output_type": "stream",
     "text": [
      "Requirement already satisfied: azure-storage-blob in c:\\users\\dell\\appdata\\local\\programs\\python\\python311\\lib\\site-packages (2.1.0)\n",
      "Requirement already satisfied: azure-common>=1.1.5 in c:\\users\\dell\\appdata\\local\\programs\\python\\python311\\lib\\site-packages (from azure-storage-blob) (1.1.28)\n",
      "Requirement already satisfied: azure-storage-common~=2.1 in c:\\users\\dell\\appdata\\local\\programs\\python\\python311\\lib\\site-packages (from azure-storage-blob) (2.1.0)\n",
      "Requirement already satisfied: cryptography in c:\\users\\dell\\appdata\\local\\programs\\python\\python311\\lib\\site-packages (from azure-storage-common~=2.1->azure-storage-blob) (40.0.2)\n",
      "Requirement already satisfied: python-dateutil in c:\\users\\dell\\appdata\\local\\programs\\python\\python311\\lib\\site-packages (from azure-storage-common~=2.1->azure-storage-blob) (2.8.2)\n",
      "Requirement already satisfied: requests in c:\\users\\dell\\appdata\\local\\programs\\python\\python311\\lib\\site-packages (from azure-storage-common~=2.1->azure-storage-blob) (2.27.1)\n",
      "Requirement already satisfied: cffi>=1.12 in c:\\users\\dell\\appdata\\local\\programs\\python\\python311\\lib\\site-packages (from cryptography->azure-storage-common~=2.1->azure-storage-blob) (1.15.1)\n",
      "Requirement already satisfied: six>=1.5 in c:\\users\\dell\\appdata\\local\\programs\\python\\python311\\lib\\site-packages (from python-dateutil->azure-storage-common~=2.1->azure-storage-blob) (1.16.0)\n",
      "Requirement already satisfied: urllib3<1.27,>=1.21.1 in c:\\users\\dell\\appdata\\local\\programs\\python\\python311\\lib\\site-packages (from requests->azure-storage-common~=2.1->azure-storage-blob) (1.26.15)\n",
      "Requirement already satisfied: certifi>=2017.4.17 in c:\\users\\dell\\appdata\\local\\programs\\python\\python311\\lib\\site-packages (from requests->azure-storage-common~=2.1->azure-storage-blob) (2022.12.7)\n",
      "Requirement already satisfied: charset-normalizer~=2.0.0 in c:\\users\\dell\\appdata\\local\\programs\\python\\python311\\lib\\site-packages (from requests->azure-storage-common~=2.1->azure-storage-blob) (2.0.12)\n",
      "Requirement already satisfied: idna<4,>=2.5 in c:\\users\\dell\\appdata\\local\\programs\\python\\python311\\lib\\site-packages (from requests->azure-storage-common~=2.1->azure-storage-blob) (3.4)\n",
      "Requirement already satisfied: pycparser in c:\\users\\dell\\appdata\\local\\programs\\python\\python311\\lib\\site-packages (from cffi>=1.12->cryptography->azure-storage-common~=2.1->azure-storage-blob) (2.21)\n"
     ]
    }
   ],
   "source": [
    "# %%capture --no-display\n",
    "# Install a pip package in the current Jupyter kernel\n",
    "import sys\n",
    "!{sys.executable} -m pip install azure-storage-blob"
   ]
  },
  {
   "cell_type": "code",
   "execution_count": null,
   "metadata": {},
   "outputs": [],
   "source": [
    "from azure.storage.blob import BlobServiceClient\n",
    "from azure.identity import DefaultAzureCredential\n",
    "import uuid\n",
    "\n",
    "def upload_blob_file(blob_service_client: BlobServiceClient, container_name, message):\n",
    "    container_client = blob_service_client.get_container_client(container=container_name)\n",
    "    container_client.upload_blob(name=str(uuid.uuid4()), data=message, overwrite=True)\n",
    "\n",
    "def save_to_blob():\n",
    "    account_url = \"\"\n",
    "    credential = \"\"\n",
    "    container_name = \"\"\n",
    "    backup_account_url = \"\"\n",
    "    backup_credential = \"\"\n",
    "    backup_container_name = \"\"\n",
    "    deafult_credential = DefaultAzureCredential()\n",
    "    blob_service_client = BlobServiceClient(account_url, credential=credential)\n",
    "    DefaultAzureCredential(exclude_interactive_browser_credential=False)\n",
    "    \n",
    "    message = \"sample message to blob for testing\"\n",
    "    try:\n",
    "        upload_blob_file(blob_service_client, container_name, message)\n",
    "    except Exception as e:\n",
    "        print(f\"exception is {str(e)}\")\n",
    "        blob_service_client = BlobServiceClient(backup_account_url, credential=backup_credential)\n",
    "        upload_blob_file(blob_service_client, backup_container_name, message)\n",
    "save_to_blob()"
   ]
  },
  {
   "cell_type": "code",
   "execution_count": null,
   "metadata": {},
   "outputs": [],
   "source": [
    "from azure.storage.blob import BlobService\n",
    "\n",
    "def copy_azure_files():\n",
    "\n",
    "        blob_service = BlobService(account_name='account_name', account_key='account_key')\n",
    "        blob_name = 'pretty.jpg'\n",
    "        copy_from_container = 'image-container'\n",
    "        copy_to_container = 'demo-container'\n",
    "\n",
    "        blob_url = blob_service.make_blob_url(copy_from_container, blob_name)\n",
    "        # blob_url:https://demostorage.blob.core.windows.net/image-container/pretty.jpg\n",
    "\n",
    "        blob_service.copy_blob(copy_to_container, blob_name, blob_url)\n",
    "\n",
    "        #for move the file use this line \n",
    "        blob_service.delete_blob(copy_from_container, blob_name)"
   ]
  }
 ],
 "metadata": {
  "kernelspec": {
   "display_name": "Python 3",
   "language": "python",
   "name": "python3"
  },
  "language_info": {
   "codemirror_mode": {
    "name": "ipython",
    "version": 3
   },
   "file_extension": ".py",
   "mimetype": "text/x-python",
   "name": "python",
   "nbconvert_exporter": "python",
   "pygments_lexer": "ipython3",
   "version": "3.11.2"
  },
  "orig_nbformat": 4
 },
 "nbformat": 4,
 "nbformat_minor": 2
}
